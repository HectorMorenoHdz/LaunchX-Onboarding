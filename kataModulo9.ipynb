{
 "cells": [
  {
   "cell_type": "markdown",
   "metadata": {},
   "source": [
    "## Ejercicio 1"
   ]
  },
  {
   "cell_type": "code",
   "execution_count": 6,
   "metadata": {},
   "outputs": [
    {
     "name": "stdout",
     "output_type": "stream",
     "text": [
      "Total de combustible: 19. Promedio por tanque: 6.333333333333333\n"
     ]
    }
   ],
   "source": [
    "def lecturas_combustible(tanque1, tanque2, tanque3):\n",
    "    promedio= promedio_tanques(tanque1, tanque2, tanque3)\n",
    "    total_combustible=tanque1+tanque2+tanque3\n",
    "    return \"Total de combustible: \" + str(total_combustible) + \". Promedio por tanque: \" + str(promedio)\n",
    "\n",
    "def promedio_tanques(tanque1, tanque2, tanque3):\n",
    "    return (tanque1+tanque2+tanque3)/3\n",
    "\n",
    "print (lecturas_combustible(4,6,9))"
   ]
  },
  {
   "cell_type": "markdown",
   "metadata": {},
   "source": [
    "## Ejercicio 2"
   ]
  },
  {
   "cell_type": "code",
   "execution_count": null,
   "metadata": {},
   "outputs": [],
   "source": [
    "def informe_mision(tiempo_destino, combustible, nombre_destino):\n",
    "    print(\"Tomara: \", tiempo_destino, \" llegar a:  \", nombre_destino, \" el combustible disponible es: \", combustible)"
   ]
  },
  {
   "cell_type": "code",
   "execution_count": 13,
   "metadata": {},
   "outputs": [
    {
     "name": "stdout",
     "output_type": "stream",
     "text": [
      "Tomara:  8  llegar a:   Marte\n",
      "El combustible disponible en:  principal  es de:  200\n",
      "El combustible disponible en:  externo  es de:  500\n"
     ]
    }
   ],
   "source": [
    "def informe_mision_mejorado(nombre_destino, *tiempos, **tanques):\n",
    "    total_tiempo=sum(tiempos)\n",
    "    print(\"Tomara: \", total_tiempo, \" llegar a:  \", nombre_destino)\n",
    "    for tanque, combustible in tanques.items():\n",
    "        print(\"El combustible disponible en: \", tanque, \" es de: \", combustible)\n",
    "\n",
    "informe_mision_mejorado('Marte', 1,2,5, principal=200, externo=500)"
   ]
  }
 ],
 "metadata": {
  "interpreter": {
   "hash": "d7a5a55bbbdfb9c265f7b45eb179c751aea661a1796cb10162565ac62b475144"
  },
  "kernelspec": {
   "display_name": "Python 3.10.2 64-bit",
   "language": "python",
   "name": "python3"
  },
  "language_info": {
   "codemirror_mode": {
    "name": "ipython",
    "version": 3
   },
   "file_extension": ".py",
   "mimetype": "text/x-python",
   "name": "python",
   "nbconvert_exporter": "python",
   "pygments_lexer": "ipython3",
   "version": "3.10.2"
  },
  "orig_nbformat": 4
 },
 "nbformat": 4,
 "nbformat_minor": 2
}

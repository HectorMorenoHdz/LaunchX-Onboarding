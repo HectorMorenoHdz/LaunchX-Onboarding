{
 "cells": [
  {
   "cell_type": "markdown",
   "metadata": {},
   "source": [
    "## Mi solucion"
   ]
  },
  {
   "cell_type": "code",
   "execution_count": 9,
   "metadata": {},
   "outputs": [
    {
     "name": "stdout",
     "output_type": "stream",
     "text": [
      "Un asteroide podria verse desde el cielo\n"
     ]
    }
   ],
   "source": [
    "velocidad=22 # velocidad del asteroide\n",
    "tamanno=26 #tamaño del asteroide\n",
    "\n",
    "if velocidad>25:\n",
    "    print(\"¡La velocidad del asteroide es superior al limite!\")\n",
    "    if tamanno>25 and tamanno<100:\n",
    "        print(\"¡PELIGRO!, el tamaño del asteroide es superior al umbral.\")\n",
    "elif velocidad>=20:\n",
    "    print(\"Un asteroide podria verse desde el cielo\")\n"
   ]
  },
  {
   "cell_type": "markdown",
   "metadata": {},
   "source": [
    "## Solucion indicada"
   ]
  },
  {
   "cell_type": "code",
   "execution_count": 10,
   "metadata": {},
   "outputs": [
    {
     "name": "stdout",
     "output_type": "stream",
     "text": [
      "Look up! ¡Hay una luz mágica en el cielo!\n"
     ]
    }
   ],
   "source": [
    "# Agrega el código para crear nuevas variables para la velocidad y el tamaño del asteroide\n",
    "# Para probar el código, prueba con varias velocidades y tamaños\n",
    "# Escribe varias expresiones de prueba o combinaciones de expresiones de prueba para determinar qué mensaje se debe enviar a Tierra.\n",
    "\n",
    "velocidad_asteroide = 25\n",
    "tamano_asteroide = 40\n",
    "if velocidad_asteroide > 25 and tamano_asteroide > 25:\n",
    "    print('¡Alerta, Un asteroide muy peligroso viene hacia la Tierra!')\n",
    "elif velocidad_asteroide >= 20:\n",
    "    print('Look up! ¡Hay una luz mágica en el cielo!')\n",
    "elif tamano_asteroide < 25:\n",
    "    print('Nada que ver aquí :)')\n",
    "else:\n",
    "    print('Nada que ver aquí :)')"
   ]
  }
 ],
 "metadata": {
  "interpreter": {
   "hash": "d7a5a55bbbdfb9c265f7b45eb179c751aea661a1796cb10162565ac62b475144"
  },
  "kernelspec": {
   "display_name": "Python 3.10.2 64-bit",
   "language": "python",
   "name": "python3"
  },
  "language_info": {
   "codemirror_mode": {
    "name": "ipython",
    "version": 3
   },
   "file_extension": ".py",
   "mimetype": "text/x-python",
   "name": "python",
   "nbconvert_exporter": "python",
   "pygments_lexer": "ipython3",
   "version": "3.10.2"
  },
  "orig_nbformat": 4
 },
 "nbformat": 4,
 "nbformat_minor": 2
}

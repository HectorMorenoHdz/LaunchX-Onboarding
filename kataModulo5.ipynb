{
 "cells": [
  {
   "cell_type": "markdown",
   "metadata": {},
   "source": [
    "## Kata del modulo 5\n",
    "### Ejercicio 1"
   ]
  },
  {
   "cell_type": "code",
   "execution_count": 4,
   "metadata": {},
   "outputs": [
    {
     "name": "stdout",
     "output_type": "stream",
     "text": [
      "La distancia entre ambos planetas en millas es: -628949330\n",
      "La distancia entre ambos planetas en millas es: -390577533.93\n"
     ]
    }
   ],
   "source": [
    "# Variables para almacenar las 2 distancias\n",
    "dist_tierra = 149597870 # km\n",
    "dist_jupiter = 778547200 # km\n",
    "\n",
    "distancia_entre_planetas = dist_tierra - dist_jupiter\n",
    "print(f\"La distancia entre ambos planetas en millas es: {distancia_entre_planetas}\")\n",
    "print(f\"La distancia entre ambos planetas en millas es: {distancia_entre_planetas*0.621}\")"
   ]
  },
  {
   "cell_type": "markdown",
   "metadata": {},
   "source": [
    "### Ejercicio 2"
   ]
  },
  {
   "cell_type": "code",
   "execution_count": 8,
   "metadata": {},
   "outputs": [
    {
     "name": "stdout",
     "output_type": "stream",
     "text": [
      "Distancia entre planetas(km): 2722900000\n",
      "Distancia entre planetas(millas): 1690920900.0\n"
     ]
    }
   ],
   "source": [
    "distancia1 = input(\"¿Cual es la distancia del primer planeta?\")\n",
    "distancia2 = input(\"¿Cual es la distancia del segundo planeta?\")\n",
    "\n",
    "distancia1int = int(distancia1)\n",
    "distancia2int = int(distancia2)\n",
    "\n",
    "print(f\"Distancia entre planetas(km): {abs(distancia1int-distancia2int)}\")\n",
    "print(f\"Distancia entre planetas(millas): {abs(distancia1int-distancia2int)*0.621}\")"
   ]
  }
 ],
 "metadata": {
  "interpreter": {
   "hash": "d7a5a55bbbdfb9c265f7b45eb179c751aea661a1796cb10162565ac62b475144"
  },
  "kernelspec": {
   "display_name": "Python 3.10.2 64-bit",
   "language": "python",
   "name": "python3"
  },
  "language_info": {
   "codemirror_mode": {
    "name": "ipython",
    "version": 3
   },
   "file_extension": ".py",
   "mimetype": "text/x-python",
   "name": "python",
   "nbconvert_exporter": "python",
   "pygments_lexer": "ipython3",
   "version": "3.10.2"
  },
  "orig_nbformat": 4
 },
 "nbformat": 4,
 "nbformat_minor": 2
}
